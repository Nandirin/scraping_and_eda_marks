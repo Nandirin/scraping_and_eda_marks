{
 "cells": [
  {
   "cell_type": "code",
   "execution_count": 49,
   "metadata": {},
   "outputs": [],
   "source": [
    "import pandas as pd"
   ]
  },
  {
   "cell_type": "markdown",
   "metadata": {},
   "source": [
    "### 1. Cargar los DataFrames y juntarlos en uno"
   ]
  },
  {
   "cell_type": "code",
   "execution_count": null,
   "metadata": {},
   "outputs": [],
   "source": [
    "df_p1 = pd.read_csv('../../archivos_csv/notas_bda_p1.csv')\n",
    "df_p1.head()"
   ]
  },
  {
   "cell_type": "code",
   "execution_count": null,
   "metadata": {},
   "outputs": [],
   "source": [
    "df_p2 = pd.read_csv('../../archivos_csv/notas_bda_p2.csv')\n",
    "df_p2.head()"
   ]
  },
  {
   "cell_type": "code",
   "execution_count": null,
   "metadata": {},
   "outputs": [],
   "source": [
    "df_t1 = pd.read_csv('../../archivos_csv/notas_bda_t1.csv')\n",
    "df_t1.head()"
   ]
  },
  {
   "cell_type": "code",
   "execution_count": 53,
   "metadata": {},
   "outputs": [],
   "source": [
    "df_t1['nota'] *= 0.15"
   ]
  },
  {
   "cell_type": "code",
   "execution_count": 54,
   "metadata": {},
   "outputs": [],
   "source": [
    "df_p1.rename(columns={'nota': 'nota_p1'}, inplace=True)\n",
    "df_p2.rename(columns={'nota': 'nota_p2'}, inplace=True)\n",
    "df_t1.rename(columns={'nota': 'nota_t1'}, inplace=True)"
   ]
  },
  {
   "cell_type": "code",
   "execution_count": null,
   "metadata": {},
   "outputs": [],
   "source": [
    "df = pd.merge(df_p1, df_p2, on='nombre')\n",
    "df = pd.merge(df, df_t1, on='nombre')\n",
    "df.head(10)"
   ]
  },
  {
   "cell_type": "markdown",
   "metadata": {},
   "source": [
    "### 2. Calcular la nota final y el percentil de cada persona"
   ]
  },
  {
   "cell_type": "markdown",
   "metadata": {},
   "source": [
    "#### 2.1 Comprobar que no hayan datos nulos"
   ]
  },
  {
   "cell_type": "code",
   "execution_count": 56,
   "metadata": {},
   "outputs": [
    {
     "data": {
      "text/plain": [
       "nombre     0\n",
       "nota_p1    0\n",
       "nota_p2    0\n",
       "nota_t1    0\n",
       "dtype: int64"
      ]
     },
     "execution_count": 56,
     "metadata": {},
     "output_type": "execute_result"
    }
   ],
   "source": [
    "df.isnull().sum()"
   ]
  },
  {
   "cell_type": "markdown",
   "metadata": {},
   "source": [
    "#### 2.2 Calcular nota final\n",
    "- **Prueba 1 (tema 1):** 10% nota final\n",
    "- **Prueba 2 (temas 2 y 3):** 40% nota final\n",
    "- **Entregable 1:** 15% nota final\n",
    "- **Entregable 2:** \n",
    "- **Entregable 3:**\n",
    "- **Entregable 4:**"
   ]
  },
  {
   "cell_type": "code",
   "execution_count": null,
   "metadata": {},
   "outputs": [],
   "source": [
    "df['nota_final'] = round(df['nota_p1'] + df['nota_p2'] + df['nota_t1'], 2)\n",
    "df.head()"
   ]
  },
  {
   "cell_type": "code",
   "execution_count": null,
   "metadata": {},
   "outputs": [],
   "source": [
    "df = df.sort_values(by='nota_final', ascending=False).reset_index(drop=True)\n",
    "df.head()"
   ]
  },
  {
   "cell_type": "markdown",
   "metadata": {},
   "source": [
    "#### 2.3 Calcular percentiles"
   ]
  },
  {
   "cell_type": "code",
   "execution_count": null,
   "metadata": {},
   "outputs": [],
   "source": [
    "df['percentil'] = round(\n",
    "    (1 - df.reset_index(names='posicion')['posicion'] / 117) * 100, \n",
    "    2\n",
    "    )\n",
    "df.head(10)"
   ]
  }
 ],
 "metadata": {
  "kernelspec": {
   "display_name": ".virtualenv",
   "language": "python",
   "name": "python3"
  },
  "language_info": {
   "codemirror_mode": {
    "name": "ipython",
    "version": 3
   },
   "file_extension": ".py",
   "mimetype": "text/x-python",
   "name": "python",
   "nbconvert_exporter": "python",
   "pygments_lexer": "ipython3",
   "version": "3.12.3"
  }
 },
 "nbformat": 4,
 "nbformat_minor": 2
}
